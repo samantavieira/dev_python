{
  "nbformat": 4,
  "nbformat_minor": 0,
  "metadata": {
    "kernelspec": {
      "display_name": "Python 3",
      "language": "python",
      "name": "python3"
    },
    "language_info": {
      "codemirror_mode": {
        "name": "ipython",
        "version": 3
      },
      "file_extension": ".py",
      "mimetype": "text/x-python",
      "name": "python",
      "nbconvert_exporter": "python",
      "pygments_lexer": "ipython3",
      "version": "3.7.1"
    },
    "colab": {
      "name": "Samanta Vieira modulo2.ipynb",
      "provenance": [],
      "collapsed_sections": []
    }
  },
  "cells": [
    {
      "cell_type": "markdown",
      "metadata": {
        "id": "LW2FUIzuk4lP",
        "colab_type": "text"
      },
      "source": [
        "# Programação Python para Ciência de Dados\n",
        "\n",
        "## Homework Python II e III"
      ]
    },
    {
      "cell_type": "markdown",
      "metadata": {
        "id": "3WMAG8Q-k4lS",
        "colab_type": "text"
      },
      "source": [
        "#### 1) Considere a matriz (lista de listas) abaixo:"
      ]
    },
    {
      "cell_type": "code",
      "metadata": {
        "id": "r5F8kgg1k4lT",
        "colab_type": "code",
        "colab": {}
      },
      "source": [
        "mat = [\n",
        "    ['supervisor', 'producao', 'Carlos'],\n",
        "    ['assistente', 'producao', 'Lucas'],\n",
        "    ['iniciante', 'pesquisador', 'Jeremias'],\n",
        "    ['supervisor', 'manufatura', 'Alberto'],\n",
        "    ['gerente', 'manufatura', 'Ricardo'],\n",
        "    ['engenheiro', 'manufatura', 'Fernando'],\n",
        "]"
      ],
      "execution_count": 0,
      "outputs": []
    },
    {
      "cell_type": "markdown",
      "metadata": {
        "id": "c7Pqle5ak4lY",
        "colab_type": "text"
      },
      "source": [
        "##### a) Utilize list comprehension para gerar uma lista que contenha o nome dos funcionários que não são pesquisadores. Se o funcionário for gerente, inclua '_g' no final de seu nome.\n",
        "\n",
        "_Dica: lembre que é possível iterar vários elementos de uma vez usando um_ `for` _. Exemplo:_\n",
        "\n",
        "```python\n",
        "var = [\n",
        "    [1, 0],\n",
        "    [0, 2],\n",
        "    [0, 0]\n",
        "]\n",
        "for a, b in var:\n",
        "    print(b, a)\n",
        "```\n",
        "    output:\n",
        "    0 1\n",
        "    2 0\n",
        "    0 0"
      ]
    },
    {
      "cell_type": "code",
      "metadata": {
        "id": "M0p9sicak4lZ",
        "colab_type": "code",
        "outputId": "18c6c92f-d201-457a-99a1-8bd842fec25e",
        "colab": {
          "base_uri": "https://localhost:8080/",
          "height": 99
        }
      },
      "source": [
        "nao_pesquisadores = [elem for elem in mat if elem[1] != 'pesquisador']\n",
        "\n",
        "gerente = [[cargo, area, nome + '_g'] if cargo == 'gerente' else [cargo, area, nome] for cargo, area, nome in nao_pesquisadores]\n",
        "gerente\n"
      ],
      "execution_count": 0,
      "outputs": [
        {
          "output_type": "execute_result",
          "data": {
            "text/plain": [
              "[['supervisor', 'producao', 'Carlos'],\n",
              " ['assistente', 'producao', 'Lucas'],\n",
              " ['supervisor', 'manufatura', 'Alberto'],\n",
              " ['gerente', 'manufatura', 'Ricardo_g'],\n",
              " ['engenheiro', 'manufatura', 'Fernando']]"
            ]
          },
          "metadata": {
            "tags": []
          },
          "execution_count": 12
        }
      ]
    },
    {
      "cell_type": "markdown",
      "metadata": {
        "id": "tSPPRj4ak4lc",
        "colab_type": "text"
      },
      "source": [
        "##### b) Refaça o exercício anterior, porém utilizando os comando `map` e `filter` em vez de  list comprehension"
      ]
    },
    {
      "cell_type": "code",
      "metadata": {
        "id": "7uazkXLxk4ld",
        "colab_type": "code",
        "outputId": "36712043-6dd9-4e43-974d-8657fab40dbd",
        "colab": {
          "base_uri": "https://localhost:8080/",
          "height": 33
        }
      },
      "source": [
        "\n",
        "l = list(filter(lambda x: x[1] != 'pesquisador',mat))\n",
        "\n",
        "\n",
        "def change(a):\n",
        "    if a[0] == 'gerente':\n",
        "        a[2] = a[2]+'_g'\n",
        "        return(a)\n",
        "    else:\n",
        "        return(a)\n",
        "    \n",
        "l2 = list(map(change,l))\n",
        "print(l2)"
      ],
      "execution_count": 0,
      "outputs": [
        {
          "output_type": "stream",
          "text": [
            "[['supervisor', 'producao', 'Carlos'], ['assistente', 'producao', 'Lucas'], ['supervisor', 'manufatura', 'Alberto'], ['gerente', 'manufatura', 'Ricardo_g_g'], ['engenheiro', 'manufatura', 'Fernando']]\n"
          ],
          "name": "stdout"
        }
      ]
    },
    {
      "cell_type": "markdown",
      "metadata": {
        "id": "t3k4N9smk4lf",
        "colab_type": "text"
      },
      "source": [
        "##### c) Crie um dicionário da forma `nome:(cargo, area)`. Utilize comprehension para isso."
      ]
    },
    {
      "cell_type": "code",
      "metadata": {
        "id": "8dH8xNmEk4lg",
        "colab_type": "code",
        "outputId": "e234ed7a-3c61-4af2-fc6c-1a7f19276b7a",
        "colab": {
          "base_uri": "https://localhost:8080/",
          "height": 33
        }
      },
      "source": [
        "dic = { nome: (cargo, area) for cargo, area, nome in mat}\n",
        "print(dic)"
      ],
      "execution_count": 0,
      "outputs": [
        {
          "output_type": "stream",
          "text": [
            "{'Carlos': ('supervisor', 'producao'), 'Lucas': ('assistente', 'producao'), 'Jeremias': ('iniciante', 'pesquisador'), 'Alberto': ('supervisor', 'manufatura'), 'Ricardo': ('gerente', 'manufatura'), 'Fernando': ('engenheiro', 'manufatura')}\n"
          ],
          "name": "stdout"
        }
      ]
    },
    {
      "cell_type": "markdown",
      "metadata": {
        "id": "28HEAujCk4lj",
        "colab_type": "text"
      },
      "source": [
        "#### d) Construa uma versão modificada da matriz `mat` de maneira que o nome apareça antes de cargo e área de atuação em cada entrada.\n"
      ]
    },
    {
      "cell_type": "code",
      "metadata": {
        "id": "csD9PBhPk4lj",
        "colab_type": "code",
        "outputId": "fe43844f-7bcd-44e9-acc1-12e73707b33a",
        "colab": {
          "base_uri": "https://localhost:8080/",
          "height": 115
        }
      },
      "source": [
        "[ [nome, cargo, area] for cargo, area, nome in mat ]"
      ],
      "execution_count": 0,
      "outputs": [
        {
          "output_type": "execute_result",
          "data": {
            "text/plain": [
              "[['Carlos', 'supervisor', 'producao'],\n",
              " ['Lucas', 'assistente', 'producao'],\n",
              " ['Jeremias', 'iniciante', 'pesquisador'],\n",
              " ['Alberto', 'supervisor', 'manufatura'],\n",
              " ['Ricardo', 'gerente', 'manufatura'],\n",
              " ['Fernando', 'engenheiro', 'manufatura']]"
            ]
          },
          "metadata": {
            "tags": []
          },
          "execution_count": 7
        }
      ]
    },
    {
      "cell_type": "markdown",
      "metadata": {
        "id": "uLtGkyIfk4lm",
        "colab_type": "text"
      },
      "source": [
        "#### 2) Utilize list comprehension para gerar a seguinte matriz\n",
        "\n",
        "```python\n",
        "[[1, 0, 0, 0],\n",
        " [0, 2, 0, 0],\n",
        " [0, 0, 3, 0],\n",
        " [0, 0, 0, 4]]\n",
        "\n",
        "```"
      ]
    },
    {
      "cell_type": "code",
      "metadata": {
        "id": "_YV7lsk_k4ln",
        "colab_type": "code",
        "outputId": "54c173fa-4f50-464a-94b8-36363f5b4a01",
        "colab": {
          "base_uri": "https://localhost:8080/",
          "height": 34
        }
      },
      "source": [
        "l = [[x+1 if x == y else 0 for x in range(4)] for y in range(4)]\n",
        "l"
      ],
      "execution_count": 0,
      "outputs": [
        {
          "output_type": "execute_result",
          "data": {
            "text/plain": [
              "[[1, 0, 0, 0], [0, 2, 0, 0], [0, 0, 3, 0], [0, 0, 0, 4]]"
            ]
          },
          "metadata": {
            "tags": []
          },
          "execution_count": 3
        }
      ]
    },
    {
      "cell_type": "markdown",
      "metadata": {
        "id": "sNMbp5bMk4lq",
        "colab_type": "text"
      },
      "source": [
        "#### 3) Utilize list comprehension para gerar a seguinte estrutura\n",
        "\n",
        "```python\n",
        "[[1],\n",
        " [1, 2],\n",
        " [1, 2, 3],\n",
        " [1, 2, 3, 4]]\n",
        "\n",
        "```"
      ]
    },
    {
      "cell_type": "code",
      "metadata": {
        "id": "fphxrD-3k4lr",
        "colab_type": "code",
        "outputId": "5ef46ff8-d286-4ec2-eefe-2333965cf94e",
        "colab": {
          "base_uri": "https://localhost:8080/",
          "height": 33
        }
      },
      "source": [
        "\n",
        "[ [i for i in range(1,l+1) if i <= l+1] for l in range(1,5)]"
      ],
      "execution_count": 0,
      "outputs": [
        {
          "output_type": "execute_result",
          "data": {
            "text/plain": [
              "[[1], [1, 2], [1, 2, 3], [1, 2, 3, 4]]"
            ]
          },
          "metadata": {
            "tags": []
          },
          "execution_count": 2
        }
      ]
    },
    {
      "cell_type": "markdown",
      "metadata": {
        "id": "hWTi04ark4lt",
        "colab_type": "text"
      },
      "source": [
        "#### 4) Construa uma função que gera um dicionário onde as chaves são todas as variações de uma palavra com um caracter removido, e o valor é a palavra original. Por exemplo:\n",
        "\n",
        "- casa<br>\n",
        "dicionario gerado:<br>\n",
        "asa: casa<br>\n",
        "csa: casa<br>\n",
        "caa: casa<br>\n",
        "cas: casa<br>"
      ]
    },
    {
      "cell_type": "code",
      "metadata": {
        "id": "o7fs8Ka_k4lu",
        "colab_type": "code",
        "outputId": "14453eb2-023f-45a5-9aba-8d0c533f235c",
        "colab": {
          "base_uri": "https://localhost:8080/",
          "height": 33
        }
      },
      "source": [
        "def var(string):\n",
        "    \n",
        "    sub_lista = [] \n",
        "    \n",
        "    for i, letra in enumerate(string):\n",
        "        lista = list(string)\n",
        "        lista.pop(i) \n",
        "        sub_lista += [''.join(lista)] \n",
        "        \n",
        "    return {item:string for item in sub_lista}    \n",
        "        \n",
        "\n",
        "var('casa')"
      ],
      "execution_count": 0,
      "outputs": [
        {
          "output_type": "execute_result",
          "data": {
            "text/plain": [
              "{'asa': 'casa', 'caa': 'casa', 'cas': 'casa', 'csa': 'casa'}"
            ]
          },
          "metadata": {
            "tags": []
          },
          "execution_count": 16
        }
      ]
    },
    {
      "cell_type": "markdown",
      "metadata": {
        "id": "fIN3AHC1k4lx",
        "colab_type": "text"
      },
      "source": [
        "#### 5) Construa uma função que recebe dois dicionários como parâmetros e concatena ambos em um único dicionário contendo as chaves e valores dos dois  dicionários enviados como parâmetros."
      ]
    },
    {
      "cell_type": "code",
      "metadata": {
        "id": "WOV0jq2kk4ly",
        "colab_type": "code",
        "outputId": "e27118de-3a45-439f-dc9b-0ccdc50cb528",
        "colab": {
          "base_uri": "https://localhost:8080/",
          "height": 148
        }
      },
      "source": [
        "palavra1=var('casa')\n",
        "palavra2=var('mesa')\n",
        "\n",
        "def concatena(a1, a2):\n",
        "    df = {**a1, **a2}\n",
        "    return df\n",
        "\n",
        "d = concatena(palavra1,palavra2)\n",
        "d"
      ],
      "execution_count": 0,
      "outputs": [
        {
          "output_type": "execute_result",
          "data": {
            "text/plain": [
              "{'asa': 'casa',\n",
              " 'caa': 'casa',\n",
              " 'cas': 'casa',\n",
              " 'csa': 'casa',\n",
              " 'esa': 'mesa',\n",
              " 'mea': 'mesa',\n",
              " 'mes': 'mesa',\n",
              " 'msa': 'mesa'}"
            ]
          },
          "metadata": {
            "tags": []
          },
          "execution_count": 21
        }
      ]
    },
    {
      "cell_type": "markdown",
      "metadata": {
        "id": "yCu6aMBlk4l1",
        "colab_type": "text"
      },
      "source": [
        "#### 6) Construa uma classe chamada `Corretor` com as seguintes especificações:\n",
        "- o construtor da classe carrega o arquivo de palavras _corpus.txt_ (contém uma palavra por linha) e gera um dicionário como descrito no exercício 4). Para isso, a classe deve possuir métodos combinando as funções desenvolvidas no exercíos 4) e 5), gerando um único dicionário para todas as palavras lidas do arquivo. \n",
        "- a classe deve possuir um método chamado `sugere`, onde, dada uma palavra presente no arquivo _corpus.txt_, verifica a ortografia da mesma. Caso a palavra não esteja correta (um caracter faltante), o método deve apontar a ortografia correta.\n",
        "\n",
        "#### Crie um arquivo chamado YYY.py contendo a classe gerada."
      ]
    },
    {
      "cell_type": "code",
      "metadata": {
        "id": "Q8iUqJ5ak4l2",
        "colab_type": "code",
        "outputId": "d6a4e263-d2c6-4ac3-9658-a356755c871f",
        "colab": {
          "resources": {
            "http://localhost:8080/nbextensions/google.colab/files.js": {
              "data": "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",
              "ok": true,
              "headers": [
                [
                  "content-type",
                  "application/javascript"
                ]
              ],
              "status": 200,
              "status_text": ""
            }
          },
          "base_uri": "https://localhost:8080/",
          "height": 74
        }
      },
      "source": [
        "from google.colab import files\n",
        "\n",
        "uploaded = files.upload()\n"
      ],
      "execution_count": 0,
      "outputs": [
        {
          "output_type": "display_data",
          "data": {
            "text/html": [
              "\n",
              "     <input type=\"file\" id=\"files-d2006c5d-1f47-4635-aee3-4a5d5cc03703\" name=\"files[]\" multiple disabled />\n",
              "     <output id=\"result-d2006c5d-1f47-4635-aee3-4a5d5cc03703\">\n",
              "      Upload widget is only available when the cell has been executed in the\n",
              "      current browser session. Please rerun this cell to enable.\n",
              "      </output>\n",
              "      <script src=\"/nbextensions/google.colab/files.js\"></script> "
            ],
            "text/plain": [
              "<IPython.core.display.HTML object>"
            ]
          },
          "metadata": {
            "tags": []
          }
        },
        {
          "output_type": "stream",
          "text": [
            "Saving corpus.txt to corpus (1).txt\n"
          ],
          "name": "stdout"
        }
      ]
    },
    {
      "cell_type": "code",
      "metadata": {
        "id": "R6hwR7zbMWCP",
        "colab_type": "code",
        "outputId": "3c909b1a-8e11-4cf2-8932-140b4b4519a9",
        "colab": {
          "base_uri": "https://localhost:8080/",
          "height": 136
        }
      },
      "source": [
        "arq = open('corpus.txt', 'r')\n",
        "texto = arq.read()\n",
        "print(texto)"
      ],
      "execution_count": 0,
      "outputs": [
        {
          "output_type": "stream",
          "text": [
            "palavra\n",
            "ciencia\n",
            "dados\n",
            "auditorio\n",
            "estudo\n",
            "concentracao\n",
            "\n"
          ],
          "name": "stdout"
        }
      ]
    },
    {
      "cell_type": "code",
      "metadata": {
        "id": "Vcxl3jnNGb-I",
        "colab_type": "code",
        "outputId": "4837ecd4-774d-4407-be40-d7dd9d9c81f1",
        "colab": {
          "base_uri": "https://localhost:8080/",
          "height": 34
        }
      },
      "source": [
        "%%writefile Samanta.py\n",
        "\n",
        "class Corretor:\n",
        "    \n",
        "    def __init__(self,f):\n",
        "        with open(f,'r') as g: #le o arquivo txt\n",
        "            l = [self.palavras(item) for item in g.read().splitlines()]\n",
        "            self.dic = self.concatena(l) \n",
        "    \n",
        "    #cria palavras\n",
        "    def palavras(self, s):\n",
        "        dic = { ( s[:i]+s[i+1:] ) : s for i in range(len(s)) }\n",
        "        return dic\n",
        "    \n",
        " \n",
        "    # lista das palavras\n",
        "    def concatena(a1, a2):\n",
        "    df = {**a1, **a2}\n",
        "    return df\n",
        "  \n",
        "    \n",
        " #verifica\n",
        "    def sugere(self, s):\n",
        "        try:\n",
        "            return self.dic[s]\n",
        "        except KeyError:\n",
        "            print('Palavra desconhecida.')\n",
        "            \n",
        " \n",
        "        "
      ],
      "execution_count": 0,
      "outputs": [
        {
          "output_type": "stream",
          "text": [
            "Overwriting Samanta.py\n"
          ],
          "name": "stdout"
        }
      ]
    },
    {
      "cell_type": "markdown",
      "metadata": {
        "id": "R2cjIhoDk4l4",
        "colab_type": "text"
      },
      "source": [
        "#### 7)** O código abaixo deve resultar em uma lista onde todas as entradas são \"True\"."
      ]
    },
    {
      "cell_type": "code",
      "metadata": {
        "id": "8tGbfCkuk4l5",
        "colab_type": "code",
        "outputId": "4e5efee2-41b3-46ca-87c9-b231105ad270",
        "colab": {
          "base_uri": "https://localhost:8080/",
          "height": 34
        }
      },
      "source": [
        "import Samanta as Y\n",
        "\n",
        "results = []\n",
        "x = Y.Corretor('corpus.txt')\n",
        "results.append(x.sugere('paavra') == 'palavra')\n",
        "results.append(x.sugere('cienci') == 'ciencia')\n",
        "results.append(x.sugere('daos') == 'dados')\n",
        "results.append(x.sugere('aditorio') == 'auditorio')\n",
        "results.append(x.sugere('estdo') == 'estudo')\n",
        "results.append(x.sugere('concntracao') == 'concentracao')\n",
        "\n",
        "print(results)"
      ],
      "execution_count": 0,
      "outputs": [
        {
          "output_type": "stream",
          "text": [
            "[True, True, True, True, True, True]\n"
          ],
          "name": "stdout"
        }
      ]
    },
    {
      "cell_type": "markdown",
      "metadata": {
        "id": "k9LoXJ87k4l7",
        "colab_type": "text"
      },
      "source": [
        "__Extra:__\n",
        "\n",
        "O algoritmo acima só permite encontrar a sugestão de palavra correta quando apenas um caracter tenha sido removido. A versão completa desse algoritmo chama-se __SymSpell__ e permite encontrar sugestões mesmo quando uma letra trocou de posição com outra. \n",
        "\n",
        "Para mais detalhes veja:\n",
        "\n",
        "- https://medium.com/@wolfgarbe/1000x-faster-spelling-correction-algorithm-2012-8701fcd87a5f\n",
        "\n",
        "- https://github.com/wolfgarbe/SymSpell"
      ]
    },
    {
      "cell_type": "markdown",
      "metadata": {
        "id": "R0AyU9DTk4l8",
        "colab_type": "text"
      },
      "source": [
        "** faça upload de um notebook com a solução da questão 10 no google drive no diretório: <br><br>\n",
        "[http://tiny.cc/jadkdz](http://tiny.cc/jadkdz)\n",
        "\n",
        "O nome do notebook deve ser: <br><br>\n",
        "_seuprimeironome-seuultimonome-modulo1.ipynb_\n",
        "\n",
        "Por exemplo: _gustavo-nonato-modulo1.ipynb_"
      ]
    }
  ]
}